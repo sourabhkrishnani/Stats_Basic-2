{
 "cells": [
  {
   "cell_type": "markdown",
   "id": "a0c3bb17-f0e7-4cd9-bef7-dc38945fe3fc",
   "metadata": {},
   "source": [
    "### Q1"
   ]
  },
  {
   "cell_type": "markdown",
   "id": "29f133b0-9f90-481a-9224-cd1157cb1f3d",
   "metadata": {},
   "source": [
    "The three measures of central tendency are:\n",
    "\n",
    "Mean: The average of a set of values, calculated by adding all the numbers together and dividing by the number of values.\n",
    "\n",
    "Mean=Sum of all values/Number of values\n",
    " \n",
    "Median: The middle value in a set of ordered data. If there is an odd number of values, the median is the middle one; if there is an even number of values, the median is the average of the two middle values.\n",
    "\n",
    "Mode: The value that occurs most frequently in a data set. There can be more than one mode if multiple values appear with the same frequency.\n",
    "\n",
    "\n",
    "\n",
    "\n",
    "\n",
    "\n"
   ]
  },
  {
   "cell_type": "markdown",
   "id": "ac8f1b96-384b-464e-826b-53b74b674563",
   "metadata": {},
   "source": [
    "### Q2"
   ]
  },
  {
   "cell_type": "markdown",
   "id": "07d42ee2-8be0-4186-aed1-6ea00009e035",
   "metadata": {},
   "source": [
    "The mean, median, and mode are all measures of central tendency, but they describe different aspects of a dataset:\n",
    "\n",
    "1. Mean:\n",
    "Definition: The mean is the average of all the values in a dataset. It is calculated by adding up all the values and dividing by the number of values.\n",
    "\n",
    "How it’s used: The mean gives a measure of the central point of a dataset, but it can be sensitive to extreme values (outliers), which may distort the overall average."
   ]
  },
  {
   "cell_type": "code",
   "execution_count": 1,
   "id": "7106cf11-1eba-4342-89e8-25af668b3a8d",
   "metadata": {},
   "outputs": [],
   "source": [
    "import numpy as np"
   ]
  },
  {
   "cell_type": "code",
   "execution_count": 5,
   "id": "bc84ab9c-8968-4b21-b1f1-bfec7cd03e45",
   "metadata": {},
   "outputs": [],
   "source": [
    "data = [2,4,6,8,100]"
   ]
  },
  {
   "cell_type": "code",
   "execution_count": 6,
   "id": "0728df9c-1882-47ee-9b58-ffee9f3c9905",
   "metadata": {},
   "outputs": [
    {
     "data": {
      "text/plain": [
       "24.0"
      ]
     },
     "execution_count": 6,
     "metadata": {},
     "output_type": "execute_result"
    }
   ],
   "source": [
    "np.mean(data)"
   ]
  },
  {
   "cell_type": "markdown",
   "id": "ac1a5620-9f23-4177-a81f-aaa41a8dda63",
   "metadata": {},
   "source": [
    "2.MEDIAN\n",
    "Definition: The median is the middle value in an ordered dataset. If the number of values is odd, it’s the exact middle value; if even, it’s the average of the two middle values.\n",
    "\n",
    "How it’s used: The median is a better measure of central tendency for skewed distributions or when outliers are present because it is not affected by extreme values.\n",
    "\n",
    "Example: For the dataset [2, 4, 6, 8, 100], the median is 6, since it is the middle value when the data is ordered."
   ]
  },
  {
   "cell_type": "code",
   "execution_count": 7,
   "id": "bdd80c91-258c-4a9f-80fb-3e703f3d78ee",
   "metadata": {},
   "outputs": [
    {
     "data": {
      "text/plain": [
       "6.0"
      ]
     },
     "execution_count": 7,
     "metadata": {},
     "output_type": "execute_result"
    }
   ],
   "source": [
    "np.median(data)"
   ]
  },
  {
   "cell_type": "markdown",
   "id": "7be9fafd-5f39-4f8d-ad4f-c4b49911147e",
   "metadata": {},
   "source": [
    "3.Mode\n",
    "Definition: The mode is the value that appears most frequently in a dataset. A dataset may have one mode, more than one mode (multimodal), or no mode if no value repeats.\n",
    "\n",
    "How it’s used: The mode is useful for categorical data or to identify the most common value in a dataset.\n",
    "\n",
    "Example: For the dataset [2, 4, 6, 6, 8, 100], the mode is 6 because it appears most often."
   ]
  },
  {
   "cell_type": "code",
   "execution_count": 10,
   "id": "5f5dab4f-9aee-4d9d-8e74-8c1ab7b4dc40",
   "metadata": {},
   "outputs": [
    {
     "data": {
      "text/plain": [
       "ModeResult(mode=6, count=2)"
      ]
     },
     "execution_count": 10,
     "metadata": {},
     "output_type": "execute_result"
    }
   ],
   "source": [
    "data=[2,4,6,6,8,100]\n",
    "from scipy import stats\n",
    "stats.mode(data)"
   ]
  },
  {
   "cell_type": "markdown",
   "id": "41a3003f-f805-44c4-b9c5-ae77a4befa50",
   "metadata": {},
   "source": [
    "NUMPY has not mode function so we can use scipy"
   ]
  },
  {
   "cell_type": "markdown",
   "id": "f6e829d1-d7ff-4f92-a931-000a7afb3184",
   "metadata": {},
   "source": [
    "### Q3"
   ]
  },
  {
   "cell_type": "code",
   "execution_count": 14,
   "id": "9a7cbd13-c9e3-4e5b-8326-6d813779e71b",
   "metadata": {},
   "outputs": [
    {
     "name": "stdout",
     "output_type": "stream",
     "text": [
      "Mean 177.01875\n",
      "Median 177.0\n",
      "Mode ModeResult(mode=177.0, count=3)\n"
     ]
    }
   ],
   "source": [
    "Data=[178,177,176,177,178.2,178,175,179,180,175,178.9,176.2,177,172.5,178,176.5]\n",
    "print(\"Mean\",np.mean(Data))\n",
    "print(\"Median\",np.median(Data))\n",
    "print(\"Mode\",stats.mode(Data))"
   ]
  },
  {
   "cell_type": "markdown",
   "id": "6f61cb7a-3bd2-43e6-9cd7-e94ef9e41f2e",
   "metadata": {},
   "source": [
    "### Q4"
   ]
  },
  {
   "cell_type": "markdown",
   "id": "ae3be3af-ba82-4052-9896-a2085efa97a5",
   "metadata": {},
   "source": [
    "Steps:\n",
    "Calculate the mean of the dataset.\n",
    "\n",
    "Subtract the mean from each data point, and square the result.\n",
    "\n",
    "Find the average of those squared differences.\n",
    "\n",
    "Take the square root of the average of the squared differences to get the standard deviation."
   ]
  },
  {
   "cell_type": "code",
   "execution_count": 15,
   "id": "8f5b0636-92b7-43f8-a9b9-2154676c9922",
   "metadata": {},
   "outputs": [],
   "source": [
    "data = [178, 177, 176, 177, 178.2, 178, 175, 179, 180, 175, 178.9, 176.2, 177, 172.5, 178, 176.5]\n",
    "mean_value = np.mean(data)\n",
    "squared_differences = [(x - mean_value) ** 2 for x in data]\n",
    "variance = np.mean(squared_differences)\n",
    "std_dev_manual = np.sqrt(variance)"
   ]
  },
  {
   "cell_type": "code",
   "execution_count": 16,
   "id": "7be7dc4f-9833-4176-b182-71e4a71485d6",
   "metadata": {},
   "outputs": [
    {
     "data": {
      "text/plain": [
       "1.7885814036548633"
      ]
     },
     "execution_count": 16,
     "metadata": {},
     "output_type": "execute_result"
    }
   ],
   "source": [
    "std_dev_manual"
   ]
  },
  {
   "cell_type": "code",
   "execution_count": 17,
   "id": "dead552e-7216-45b8-959f-257bd641f991",
   "metadata": {},
   "outputs": [],
   "source": [
    "std_dev_Alternatively =np.std(data)"
   ]
  },
  {
   "cell_type": "code",
   "execution_count": 18,
   "id": "82019c67-64ac-448f-92d2-5c583a0fa253",
   "metadata": {},
   "outputs": [
    {
     "data": {
      "text/plain": [
       "1.7885814036548633"
      ]
     },
     "execution_count": 18,
     "metadata": {},
     "output_type": "execute_result"
    }
   ],
   "source": [
    "std_dev_Alternatively"
   ]
  },
  {
   "cell_type": "markdown",
   "id": "94cab2d9-54bf-4051-ae1c-c0093c78942a",
   "metadata": {},
   "source": [
    "### Q5"
   ]
  },
  {
   "cell_type": "markdown",
   "id": "9fae5837-8ad6-4ea1-976f-ece68c121b52",
   "metadata": {},
   "source": [
    "Measures of dispersion—such as the range, variance, and standard deviation—are used to describe how spread out or dispersed the values in a dataset are. These measures provide insight into the variability of the data, helping to understand the distribution better."
   ]
  },
  {
   "cell_type": "markdown",
   "id": "34337a74-4437-4bc2-8cce-3315ecbbc095",
   "metadata": {},
   "source": [
    "1. Range:\n",
    "Definition: The difference between the largest and smallest values in the dataset.\n",
    "\n",
    "Use: The range gives a quick measure of how spread out the data is but does not provide detailed information about the data distribution\n",
    "\n",
    "Range=Max value−Min value"
   ]
  },
  {
   "cell_type": "markdown",
   "id": "337a02ab-63f5-491a-a2c1-00f292419112",
   "metadata": {},
   "source": [
    "Example: In a dataset of heights [172, 175, 176, 177, 180], the range is:\n",
    "\n",
    "Range=180−172=8\n",
    "\n",
    "This tells us that the data spans 8 units."
   ]
  },
  {
   "cell_type": "markdown",
   "id": "9e8ccad8-1057-48d6-8f18-fefb88334869",
   "metadata": {},
   "source": [
    "2.Variance:\n",
    "Definition: The average of the squared differences from the mean. Variance shows how far the data points are from the mean.\n",
    "\n",
    "Variance= 1/n∑(xi−μ)^2\n",
    " \n",
    "Where 𝑛 is the number of data poiny\n",
    "μ is the mean.\n",
    "\n",
    "Use: Variance provides a numerical value to describe the spread of data points, especially useful in comparing different datasets. A higher variance means more spread out data, while a lower variance means data is clustered closer to the mean.\n",
    "\n",
    "Example: For heights [172, 175, 176, 177, 180]\n",
    "\n",
    "Mean: 𝜇=172+175+176+177+180/5=176\n",
    "\n",
    "Variance:(172−176)^2+(175−176)^2+(176−176)^2+(177−176)^2+(180−176)^2/5=7.2\n"
   ]
  },
  {
   "cell_type": "markdown",
   "id": "d15e6824-8447-42c2-b0c8-638c156ddce3",
   "metadata": {},
   "source": [
    "3. Standard Deviation:\n",
    "Definition: The square root of the variance, which provides a measure of the average distance from the mean in the original units.\n",
    "\n",
    "𝜎=Variance\n",
    "​\n",
    "Use: Standard deviation is widely used because it is in the same units as the data, making it easier to interpret. It shows the typical deviation from the mean, and a higher value indicates greater variability.\n",
    "\n",
    "Example: For the variance of 7.2, the standard deviation is:\n",
    "𝜎=root7.2≈2.68\n",
    "\n",
    "This means that the heights typically deviate by about 2.68 units from the mean."
   ]
  },
  {
   "cell_type": "code",
   "execution_count": 22,
   "id": "bb4b6c67-8ffc-4b17-984c-9904d17361e8",
   "metadata": {},
   "outputs": [
    {
     "data": {
      "text/plain": [
       "(8, 6.8, 2.6076809620810595)"
      ]
     },
     "execution_count": 22,
     "metadata": {},
     "output_type": "execute_result"
    }
   ],
   "source": [
    "import numpy as np\n",
    "\n",
    "# Example dataset\n",
    "data = [172, 175, 176, 177, 180]\n",
    "\n",
    "# Calculate the range\n",
    "range_value = np.max(data) - np.min(data)\n",
    "\n",
    "# Calculate the variance\n",
    "variance = np.var(data)\n",
    "\n",
    "# Calculate the standard deviation\n",
    "std_dev = np.std(data)\n",
    "\n",
    "range_value, variance, std_dev\n"
   ]
  },
  {
   "cell_type": "markdown",
   "id": "90e77362-6c6a-4f21-b14e-8c43781046ca",
   "metadata": {},
   "source": [
    "### Q6"
   ]
  },
  {
   "cell_type": "markdown",
   "id": "4c5a62e6-6738-479b-a994-4f14829f69b3",
   "metadata": {},
   "source": [
    "A Venn diagram is a visual tool used to show relationships and logical connections between different sets. It consists of overlapping circles, where each circle represents a set, and the areas of overlap show the elements common to multiple sets.\n",
    "\n",
    "Key Components of a Venn Diagram:\n",
    "\n",
    "Circles: Each circle in the diagram represents a different set or group of items.\n",
    "\n",
    "Overlapping Areas: These areas represent elements that are shared between sets.\n",
    "\n",
    "Non-overlapping Areas: These represent elements that are unique to a particular set.\n",
    "\n",
    "Example of a Simple Venn Diagram:\n",
    "\n",
    "For two sets:\n",
    "\n",
    "Set A = {1, 2, 3}\n",
    "\n",
    "Set B = {3, 4, 5}\n",
    "A Venn diagram would have two circles:\n",
    "\n",
    "The overlap (intersection) would contain {3}, which is common to both Set A and Set B.\n",
    "The non-overlapping part of Set A contains {1, 2}, and the non-overlapping part of Set B contains {4, 5}.\n",
    "\n",
    "Uses of Venn Diagrams:\n",
    "\n",
    "Set Theory: To visualize unions, intersections, and differences of sets.\n",
    "\n",
    "Logic: To illustrate logical relationships, such as AND, OR, and NOT operations.\n",
    "\n",
    "Probability: To show probabilities of events and their overlaps.\n",
    "\n",
    "Comparisons: To compare and contrast different groups or categories.\n",
    "\n",
    "Venn diagrams are commonly used in mathematics, statistics, logic, and even everyday decision-making to clarify relationships between different groups."
   ]
  },
  {
   "cell_type": "markdown",
   "id": "c2c952a5-66f0-4078-938c-adc8e35a6296",
   "metadata": {},
   "source": [
    "### Q7"
   ]
  },
  {
   "cell_type": "code",
   "execution_count": 24,
   "id": "6ec24998-213e-4609-9223-afc77b092f33",
   "metadata": {},
   "outputs": [
    {
     "name": "stdout",
     "output_type": "stream",
     "text": [
      "Intersection (setA ∩ setB): {2, 6}\n",
      "Union (setA ∪ setB): {0, 2, 3, 4, 5, 6, 7, 8, 10}\n"
     ]
    }
   ],
   "source": [
    "setA ={2,3,4,5,6,7}\n",
    "setB ={0,2,6,8,10}\n",
    "intersection=setA.intersection(setB)\n",
    "union=setA.union(setB)\n",
    "print(\"Intersection (setA ∩ setB):\", intersection)\n",
    "print(\"Union (setA ∪ setB):\", union)"
   ]
  },
  {
   "cell_type": "markdown",
   "id": "4802407c-3d26-4991-a9d8-d5aae997e383",
   "metadata": {},
   "source": [
    "(i) Intersection 𝐴∩𝐵\n",
    "\n",
    "A∩B\n",
    "\n",
    "The intersection of two sets 𝐴 and 𝐵 includes all elements that are common to both sets.\n",
    "\n",
    "A∩B={2,6}\n",
    "\n",
    "(ii) Union 𝐴∪𝐵\n",
    "\n",
    "A∪B\n",
    "\n",
    "The union of two sets A and B includes all elements that are in either set, without duplicates.\n",
    "\n",
    "A∪B={0,2,3,4,5,6,7,8,10}"
   ]
  },
  {
   "cell_type": "markdown",
   "id": "b927cb97-dc3a-4ca4-86d1-7eb018664e6e",
   "metadata": {},
   "source": [
    "### Q8"
   ]
  },
  {
   "cell_type": "markdown",
   "id": "a404d025-ad9a-401e-96cc-4958002d6c59",
   "metadata": {},
   "source": [
    "Skewness is a measure of the asymmetry of the probability distribution of a real-valued random variable about its mean. It describes how the data points are distributed relative to the normal distribution (which has zero skewness). Skewness can be positive, negative, or zero, indicating the direction and degree of asymmetry.\n",
    "\n",
    "Types of Skewness:\n",
    "\n",
    "Positive Skewness (Right-Skewed):\n",
    "\n",
    "Distribution tail: Longer tail on the right.\n",
    "Effect on data: Most of the data points are concentrated on the left, with a few larger values pulling the mean to the right.\n",
    "Mean > Median > Mode.\n",
    "Example: Income distribution where most people earn low to medium amounts, but a few earn significantly higher incomes.\n",
    "\n",
    "Negative Skewness (Left-Skewed):\n",
    "\n",
    "Distribution tail: Longer tail on the left.\n",
    "Effect on data: Most of the data points are concentrated on the right, with a few smaller values pulling the mean to the left.\n",
    "Mean < Median < Mode.\n",
    "Example: Exam scores where most students perform well, but a few score significantly lower.\n",
    "\n",
    "Zero Skewness (Symmetrical):\n",
    "\n",
    "Distribution tail: The distribution is perfectly symmetric.\n",
    "Effect on data: The data is evenly distributed around the mean.\n",
    "Mean = Median = Mode."
   ]
  },
  {
   "cell_type": "markdown",
   "id": "d7a55f39-ecb3-4570-9595-a76e3d27c6fa",
   "metadata": {},
   "source": [
    "### Q9"
   ]
  },
  {
   "cell_type": "markdown",
   "id": "0fb11f7e-cb5a-4db8-bedf-5d1a80b43006",
   "metadata": {},
   "source": [
    "In a right-skewed distribution (positive skewness), the mean is typically greater than the median. This is because the presence of outliers or extreme values on the right side (higher end) of the distribution pulls the mean upwards, while the median, being the middle value, remains less affected by these extreme values.\n",
    "\n",
    "Position of Median with Respect to Mean in Right Skew:\n",
    "Mean > Median"
   ]
  },
  {
   "cell_type": "markdown",
   "id": "14d8f9b6-d42a-4fa8-ad12-3a132b3daa24",
   "metadata": {},
   "source": [
    "### Q10"
   ]
  },
  {
   "cell_type": "markdown",
   "id": "784450e8-bedf-4c92-9648-288cce398889",
   "metadata": {},
   "source": [
    "Covariance and correlation are both statistical measures that describe the relationship between two variables, but they differ in their definitions, interpretations, and uses.\n",
    "\n",
    "1. Covariance\n",
    "Definition: Covariance measures the degree to which two variables change together. It indicates whether an increase in one variable will result in an increase or decrease in another variable.\n",
    "\n",
    "Interpretation:\n",
    "\n",
    "Positive covariance: Indicates that both variables tend to increase together.\n",
    "Negative covariance: Indicates that one variable tends to increase when the other decreases.\n",
    "Zero covariance: Suggests no linear relationship between the variables.\n",
    "\n",
    "Units: Covariance is not standardized and can take any value, making it difficult to interpret without context.\n",
    "\n",
    "2. Correlation\n",
    "Definition: Correlation measures the strength and direction of a linear relationship between two variables. It standardizes the covariance, allowing for easier interpretation.\n",
    "\n",
    "Interpretation:\n",
    "\n",
    "Correlation values range from -1 to +1.\n",
    "+1: Perfect positive linear correlation.\n",
    "-1: Perfect negative linear correlation.\n",
    "0: No linear correlation.\n",
    "The closer the correlation value is to +1 or -1, the stronger the linear relationship.\n",
    "\n",
    "Units: Correlation is dimensionless and standardized, making it easier to interpret across different datasets."
   ]
  },
  {
   "cell_type": "markdown",
   "id": "b0828723-9a80-4fff-b1c3-f927d5b71eab",
   "metadata": {},
   "source": [
    "Uses in Statistical Analysis\n",
    "\n",
    "Covariance:\n",
    "\n",
    "Helps understand the direction of the relationship between two variables.\n",
    "Used in portfolio theory to assess how asset returns move together in finance.\n",
    "\n",
    "Correlation:\n",
    "\n",
    "Widely used to assess the strength and direction of relationships in various fields, including economics, psychology, and healthcare.\n",
    "Useful for identifying linear relationships and making predictions based on existing data."
   ]
  },
  {
   "cell_type": "markdown",
   "id": "6aab90ae-c446-4cac-a920-1896f44f7969",
   "metadata": {},
   "source": [
    "### Q11"
   ]
  },
  {
   "cell_type": "markdown",
   "id": "c2e77681-d538-4001-90c1-ff182b6f060b",
   "metadata": {},
   "source": [
    "The formula for calculating the sample mean (often simply referred to as the \"mean\") of a dataset is\n",
    "\n",
    "    X = SUM of all xi/n "
   ]
  },
  {
   "cell_type": "markdown",
   "id": "6aecab7a-1ab4-4a16-a9f4-1b20333dc596",
   "metadata": {},
   "source": [
    "Let's calculate the sample mean for the following dataset:\n",
    "\n",
    "Dataset:4,7,10,15,20\n",
    "\n",
    "Identify the Observations:\n",
    "\n",
    "𝑥1=4\n",
    "𝑥2=7\n",
    "𝑥3=10\n",
    "x4=15\n",
    "𝑥5=20\n",
    "\n",
    "Count the Number of Observations:\n",
    "n=5\n",
    "\n",
    "Calculate the Sample Mean\n",
    "56/5=11.2\n",
    "\n",
    "Conclusion:\n",
    "The sample mean of the dataset 4,7,10,15,20 is 11.2. This value represents the average of the observations in this dataset."
   ]
  },
  {
   "cell_type": "markdown",
   "id": "7d4171e0-dc27-4da9-b832-9fe2a5e03ca2",
   "metadata": {},
   "source": [
    "### Q12"
   ]
  },
  {
   "cell_type": "markdown",
   "id": "da906942-a0c7-467f-8563-cda672976d58",
   "metadata": {},
   "source": [
    "In a normal distribution, the measures of central tendency—mean, median, and mode—are all equal. This characteristic is a key feature of normal distributions, which are symmetrical and bell-shaped.\n",
    "\n",
    "Relationships between Measures of Central Tendency:\n",
    "\n",
    "Mean (𝜇): The arithmetic average of all the values in the dataset. It is calculated by summing all the values and dividing by the total number of observations.\n",
    "\n",
    "Median: The middle value when all the observations are sorted in ascending order. In a normal distribution, the median is located at the center of the distribution.\n",
    "\n",
    "Mode: The value that appears most frequently in the dataset. In a normal distribution, the mode coincides with the mean and median."
   ]
  },
  {
   "cell_type": "markdown",
   "id": "5d39909a-a7f3-4ff5-beae-9ab22266e45e",
   "metadata": {},
   "source": [
    "For a normal distribution:\n",
    "\n",
    "Mean=Median=Mode\n",
    "\n",
    "Visual Representation:\n",
    "When plotted, a normal distribution shows a symmetrical shape around the center (mean), with both the median and mode lying at the same point. This symmetry is what gives the normal distribution its characteristic bell shape.\n",
    "\n",
    "Importance:\n",
    "Understanding this relationship is crucial in statistics, as it simplifies the analysis and interpretation of normally distributed data. When a dataset is normally distributed, knowing one measure of central tendency provides insights into the others.\n",
    "\n",
    "\n",
    "\n",
    "\n",
    "\n",
    "\n"
   ]
  },
  {
   "cell_type": "markdown",
   "id": "12ad3f5f-129d-4a87-8337-a22060158ac3",
   "metadata": {},
   "source": [
    "### Q13"
   ]
  },
  {
   "cell_type": "markdown",
   "id": "541d6de6-09bd-4059-94b2-a5b9f8e19427",
   "metadata": {},
   "source": [
    "Covariance and correlation are both statistical measures that describe the relationship between two variables, but they differ in several key aspects, including their definitions, interpretation, and applications\n",
    "\n",
    "Covariance:\n",
    "\n",
    "Covariance measures the degree to which two variables change together. It indicates the direction of the relationship between the variables.\n",
    "\n",
    "Correlation:\n",
    "\n",
    "Correlation measures the strength and direction of a linear relationship between two variables. It standardizes the covariance, making it dimensionless and easier to interpret.\n",
    "\n",
    "Interpretation\n",
    "Covariance:\n",
    "\n",
    "The sign of the covariance indicates the direction of the relationship:\n",
    "\n",
    "Positive covariance: Both variables tend to increase together.\n",
    "\n",
    "Negative covariance: One variable tends to increase while the other decreases.\n",
    "\n",
    "Zero covariance: No linear relationship between the variables.\n",
    "Units\n",
    "\n",
    "Covariance:\n",
    "The units of covariance are the product of the units of the two variables, making it less intuitive and harder to interpret.\n",
    "Correlation:\n",
    "Correlation is unitless, providing a clearer understanding of the relationship between the variables.\n",
    "\n",
    "Applications\n",
    "\n",
    "Covariance:\n",
    "\n",
    "Often used in portfolio theory and finance to assess how asset returns move together.\n",
    "Helps in understanding the direction of the relationship but does not indicate the strength.\n",
    "Correlation:\n",
    "\n",
    "Widely used in various fields, including statistics, economics, psychology, and healthcare, to analyze and interpret relationships between variables.\n",
    "Useful for regression analysis and making predictions based on existing data.\n"
   ]
  },
  {
   "cell_type": "markdown",
   "id": "79be1795-9064-4cc3-ac2b-017c9841379e",
   "metadata": {},
   "source": [
    "Covariance measures the direction of the relationship but lacks standardization, making it difficult to interpret.\n",
    "\n",
    "Correlation provides a standardized measure of both the strength and direction of the linear relationship, making it more commonly used in statistical analysis."
   ]
  },
  {
   "cell_type": "markdown",
   "id": "b00fbe06-5b97-453b-ac61-8b3901a35e98",
   "metadata": {},
   "source": [
    "### Q14"
   ]
  },
  {
   "cell_type": "markdown",
   "id": "d3b31b4e-7011-4181-a89a-8fa9fc5977b0",
   "metadata": {},
   "source": [
    "Outliers are data points that deviate significantly from the rest of the dataset. They can have a considerable impact on measures of central tendency (mean, median, mode) and measures of dispersion (range, variance, standard deviation). Here’s how outliers affect these measures, along with an example:\n",
    "\n",
    "1. Effect on Measures of Central Tendency\n",
    "\n",
    "Mean:\n",
    "The mean is highly sensitive to outliers. A single outlier can skew the mean significantly, leading to a value that does not accurately represent the central tendency of the bulk of the data.\n",
    "\n",
    "Median:\n",
    "The median is less affected by outliers because it represents the middle value in a sorted list. Even if extreme values are present, the median will still reflect the central location of the majority of the data.\n",
    "\n",
    "Mode:\n",
    "The mode is generally unaffected by outliers unless the outlier itself is a frequent value. It simply indicates the most common value(s) in the dataset.\n",
    "\n",
    "2. Effect on Measures of Dispersion\n",
    "\n",
    "Range:\n",
    "\n",
    "The range is directly influenced by outliers, as it is calculated as the difference between the maximum and minimum values. An outlier can significantly increase the range.\n",
    "Variance and Standard Deviation:\n",
    "\n",
    "Both variance and standard deviation are affected by outliers because they are calculated based on the mean. Outliers can increase the average of squared deviations from the mean, leading to higher variance and standard deviation."
   ]
  },
  {
   "cell_type": "code",
   "execution_count": 34,
   "id": "c6058eec-e927-45d6-aca5-642e57dd39de",
   "metadata": {},
   "outputs": [
    {
     "name": "stdout",
     "output_type": "stream",
     "text": [
      "69.44444444444444\n",
      "65.0\n"
     ]
    },
    {
     "data": {
      "text/plain": [
       "ModeResult(mode=55, count=1)"
      ]
     },
     "execution_count": 34,
     "metadata": {},
     "output_type": "execute_result"
    }
   ],
   "source": [
    "dataset1 =[55,58,60,62,65,70,75,80,100]\n",
    "import numpy as np\n",
    "from scipy import stats as sts\n",
    "print(np.mean(dataset1))\n",
    "print(np.median(dataset1))\n",
    "sts.mode(dataset1)\n",
    "\n"
   ]
  },
  {
   "cell_type": "code",
   "execution_count": 35,
   "id": "43bbedc5-ef32-44d4-9516-6ded3653e5ce",
   "metadata": {},
   "outputs": [
    {
     "name": "stdout",
     "output_type": "stream",
     "text": [
      "Range: 45\n"
     ]
    }
   ],
   "source": [
    "range_val = np.max(dataset1) - np.min(dataset1)\n",
    "print(\"Range:\", range_val)"
   ]
  },
  {
   "cell_type": "markdown",
   "id": "e7bd5652-d5b4-4a5f-a582-891367c70d20",
   "metadata": {},
   "source": [
    "Outliers can significantly distort measures of central tendency, especially the mean, and also affect measures of dispersion like range and standard deviation. The median and mode are more resistant to outliers, making them more robust measures of central tendency in datasets that may contain extreme values."
   ]
  },
  {
   "cell_type": "code",
   "execution_count": null,
   "id": "7e0badce-1aa5-4638-877e-48e7e2323a8d",
   "metadata": {},
   "outputs": [],
   "source": []
  }
 ],
 "metadata": {
  "kernelspec": {
   "display_name": "Python 3 (ipykernel)",
   "language": "python",
   "name": "python3"
  },
  "language_info": {
   "codemirror_mode": {
    "name": "ipython",
    "version": 3
   },
   "file_extension": ".py",
   "mimetype": "text/x-python",
   "name": "python",
   "nbconvert_exporter": "python",
   "pygments_lexer": "ipython3",
   "version": "3.11.7"
  }
 },
 "nbformat": 4,
 "nbformat_minor": 5
}
